{
 "cells": [
  {
   "cell_type": "markdown",
   "metadata": {},
   "source": [
    "## Getting and parsing text data "
   ]
  },
  {
   "cell_type": "code",
   "execution_count": 2,
   "metadata": {},
   "outputs": [],
   "source": [
    "import requests\n",
    "import pandas as pd\n",
    "\n",
    "# request to access to the site\n",
    "x = requests.get('https://www.gutenberg.org/cache/epub/1934/pg1934.txt')\n",
    "\n",
    "# extract the text\n",
    "text = x.text\n",
    "\n",
    "# choosing the start and the end of the text\n",
    "#start_index = text.find('SONGS OF INNOCENCE\\r\\n\\r\\n\\r\\n')\n",
    "start_index = text.find('The Voice of the Ancient Bard')\n",
    "start_index +=  len('The Voice of the Ancient Bard\\r\\n\\r\\n\\r\\n\\r\\n\\r\\n') \n",
    "end_index = text.find('*** END OF THE PROJECT GUTENBERG EBOOK SONGS OF INNOCENCE AND OF EXPERIENCE ***')\n",
    "\n",
    "\n",
    "# selecting the text from the index onward\n",
    "text = text[start_index:end_index]\n",
    "\n",
    "# divide it in a list (each element is a poem -- title excluded)\n",
    "poem_list = text.split('\\r\\n\\r\\n\\r\\n\\r\\n\\r\\n')"
   ]
  },
  {
   "cell_type": "code",
   "execution_count": 3,
   "metadata": {},
   "outputs": [
    {
     "data": {
      "text/html": [
       "<div>\n",
       "<style scoped>\n",
       "    .dataframe tbody tr th:only-of-type {\n",
       "        vertical-align: middle;\n",
       "    }\n",
       "\n",
       "    .dataframe tbody tr th {\n",
       "        vertical-align: top;\n",
       "    }\n",
       "\n",
       "    .dataframe thead th {\n",
       "        text-align: right;\n",
       "    }\n",
       "</style>\n",
       "<table border=\"1\" class=\"dataframe\">\n",
       "  <thead>\n",
       "    <tr style=\"text-align: right;\">\n",
       "      <th></th>\n",
       "      <th>line</th>\n",
       "      <th>line_number</th>\n",
       "      <th>stanza_number</th>\n",
       "      <th>poem_title</th>\n",
       "      <th>book_title</th>\n",
       "    </tr>\n",
       "  </thead>\n",
       "  <tbody>\n",
       "    <tr>\n",
       "      <th>0</th>\n",
       "      <td>Piping down the valleys wild,</td>\n",
       "      <td>1</td>\n",
       "      <td>1</td>\n",
       "      <td>INTRODUCTION</td>\n",
       "      <td>SONGS OF INNOCENCE</td>\n",
       "    </tr>\n",
       "    <tr>\n",
       "      <th>1</th>\n",
       "      <td>Piping songs of pleasant glee,</td>\n",
       "      <td>2</td>\n",
       "      <td>1</td>\n",
       "      <td>INTRODUCTION</td>\n",
       "      <td>SONGS OF INNOCENCE</td>\n",
       "    </tr>\n",
       "    <tr>\n",
       "      <th>2</th>\n",
       "      <td>On a cloud I saw a child,</td>\n",
       "      <td>3</td>\n",
       "      <td>1</td>\n",
       "      <td>INTRODUCTION</td>\n",
       "      <td>SONGS OF INNOCENCE</td>\n",
       "    </tr>\n",
       "    <tr>\n",
       "      <th>3</th>\n",
       "      <td>And he laughing said to me:</td>\n",
       "      <td>4</td>\n",
       "      <td>1</td>\n",
       "      <td>INTRODUCTION</td>\n",
       "      <td>SONGS OF INNOCENCE</td>\n",
       "    </tr>\n",
       "    <tr>\n",
       "      <th>4</th>\n",
       "      <td>‘Pipe a song about a Lamb!’</td>\n",
       "      <td>5</td>\n",
       "      <td>2</td>\n",
       "      <td>INTRODUCTION</td>\n",
       "      <td>SONGS OF INNOCENCE</td>\n",
       "    </tr>\n",
       "    <tr>\n",
       "      <th>...</th>\n",
       "      <td>...</td>\n",
       "      <td>...</td>\n",
       "      <td>...</td>\n",
       "      <td>...</td>\n",
       "      <td>...</td>\n",
       "    </tr>\n",
       "    <tr>\n",
       "      <th>904</th>\n",
       "      <td>Tangled roots perplex her ways;</td>\n",
       "      <td>7</td>\n",
       "      <td>1</td>\n",
       "      <td>THE VOICE OF THE ANCIENT BARD</td>\n",
       "      <td>SONGS OF EXPERIENCE</td>\n",
       "    </tr>\n",
       "    <tr>\n",
       "      <th>905</th>\n",
       "      <td>How many have fallen there!</td>\n",
       "      <td>8</td>\n",
       "      <td>1</td>\n",
       "      <td>THE VOICE OF THE ANCIENT BARD</td>\n",
       "      <td>SONGS OF EXPERIENCE</td>\n",
       "    </tr>\n",
       "    <tr>\n",
       "      <th>906</th>\n",
       "      <td>They stumble all night over bones of the dead;</td>\n",
       "      <td>9</td>\n",
       "      <td>1</td>\n",
       "      <td>THE VOICE OF THE ANCIENT BARD</td>\n",
       "      <td>SONGS OF EXPERIENCE</td>\n",
       "    </tr>\n",
       "    <tr>\n",
       "      <th>907</th>\n",
       "      <td>And feel—they know not what but care;</td>\n",
       "      <td>10</td>\n",
       "      <td>1</td>\n",
       "      <td>THE VOICE OF THE ANCIENT BARD</td>\n",
       "      <td>SONGS OF EXPERIENCE</td>\n",
       "    </tr>\n",
       "    <tr>\n",
       "      <th>908</th>\n",
       "      <td>And wish to lead others, when they should be led.</td>\n",
       "      <td>11</td>\n",
       "      <td>1</td>\n",
       "      <td>THE VOICE OF THE ANCIENT BARD</td>\n",
       "      <td>SONGS OF EXPERIENCE</td>\n",
       "    </tr>\n",
       "  </tbody>\n",
       "</table>\n",
       "<p>909 rows × 5 columns</p>\n",
       "</div>"
      ],
      "text/plain": [
       "                                                  line line_number  \\\n",
       "0                        Piping down the valleys wild,           1   \n",
       "1                       Piping songs of pleasant glee,           2   \n",
       "2                            On a cloud I saw a child,           3   \n",
       "3                          And he laughing said to me:           4   \n",
       "4                          ‘Pipe a song about a Lamb!’           5   \n",
       "..                                                 ...         ...   \n",
       "904                    Tangled roots perplex her ways;           7   \n",
       "905                        How many have fallen there!           8   \n",
       "906     They stumble all night over bones of the dead;           9   \n",
       "907              And feel—they know not what but care;          10   \n",
       "908  And wish to lead others, when they should be led.          11   \n",
       "\n",
       "    stanza_number                     poem_title           book_title  \n",
       "0               1                   INTRODUCTION   SONGS OF INNOCENCE  \n",
       "1               1                   INTRODUCTION   SONGS OF INNOCENCE  \n",
       "2               1                   INTRODUCTION   SONGS OF INNOCENCE  \n",
       "3               1                   INTRODUCTION   SONGS OF INNOCENCE  \n",
       "4               2                   INTRODUCTION   SONGS OF INNOCENCE  \n",
       "..            ...                            ...                  ...  \n",
       "904             1  THE VOICE OF THE ANCIENT BARD  SONGS OF EXPERIENCE  \n",
       "905             1  THE VOICE OF THE ANCIENT BARD  SONGS OF EXPERIENCE  \n",
       "906             1  THE VOICE OF THE ANCIENT BARD  SONGS OF EXPERIENCE  \n",
       "907             1  THE VOICE OF THE ANCIENT BARD  SONGS OF EXPERIENCE  \n",
       "908             1  THE VOICE OF THE ANCIENT BARD  SONGS OF EXPERIENCE  \n",
       "\n",
       "[909 rows x 5 columns]"
      ]
     },
     "execution_count": 3,
     "metadata": {},
     "output_type": "execute_result"
    }
   ],
   "source": [
    "# added line as feature, not used test as index (seems not easy to manage to me)\n",
    "df = pd.DataFrame(columns = ['line', 'line_number', 'stanza_number', 'poem_title', 'book_title'])\n",
    "\n",
    "for poem in poem_list:\n",
    "    if poem[:2] == '\\r\\n': # condition to fix the poem: 'THE LITTLE BLACK BOY'\n",
    "        poem = poem[2:]\n",
    "    if poem.upper() == poem: # check if this is the title of the book, if True set as book_title variable\n",
    "        book_title = poem    \n",
    "    else:\n",
    "        stanza_list = poem.split('\\r\\n\\r\\n')\n",
    "        stanza_number = 0 # not 1, at the first place there is the title\n",
    "        line_numeber = 1 \n",
    "        for stanza in stanza_list: # check if this is the title of the poem, if True set as poem_title variable\n",
    "            if stanza.upper() == stanza:\n",
    "                poem_title = stanza\n",
    "            else:\n",
    "                line_list = stanza.split('\\r\\n')\n",
    "                #line_number = 1 # inizialise here if you want that the line reupdate every stanza\n",
    "                for line in line_list:\n",
    "                    if line == '':\n",
    "                        line_numeber -= 1\n",
    "                        pass # no empty rows in the dataframe\n",
    "                    else:\n",
    "                        dictionary = {'line' : line, 'line_number' : line_numeber, 'stanza_number' : stanza_number, 'poem_title' : poem_title, 'book_title' : book_title}\n",
    "                        df = df.append(dictionary, ignore_index=True)\n",
    "                    line_numeber +=1 # increasing the number of line\n",
    "            stanza_number +=1 # increasing the number of stanza\n",
    "\n",
    "df"
   ]
  },
  {
   "cell_type": "code",
   "execution_count": 4,
   "metadata": {},
   "outputs": [
    {
     "data": {
      "text/html": [
       "<div>\n",
       "<style scoped>\n",
       "    .dataframe tbody tr th:only-of-type {\n",
       "        vertical-align: middle;\n",
       "    }\n",
       "\n",
       "    .dataframe tbody tr th {\n",
       "        vertical-align: top;\n",
       "    }\n",
       "\n",
       "    .dataframe thead th {\n",
       "        text-align: right;\n",
       "    }\n",
       "</style>\n",
       "<table border=\"1\" class=\"dataframe\">\n",
       "  <thead>\n",
       "    <tr style=\"text-align: right;\">\n",
       "      <th></th>\n",
       "      <th>line_number</th>\n",
       "      <th>stanza_number</th>\n",
       "      <th>poem_title</th>\n",
       "      <th>book_title</th>\n",
       "    </tr>\n",
       "    <tr>\n",
       "      <th>line</th>\n",
       "      <th></th>\n",
       "      <th></th>\n",
       "      <th></th>\n",
       "      <th></th>\n",
       "    </tr>\n",
       "  </thead>\n",
       "  <tbody>\n",
       "    <tr>\n",
       "      <th>Piping down the valleys wild,</th>\n",
       "      <td>1</td>\n",
       "      <td>1</td>\n",
       "      <td>INTRODUCTION</td>\n",
       "      <td>SONGS OF INNOCENCE</td>\n",
       "    </tr>\n",
       "    <tr>\n",
       "      <th>Piping songs of pleasant glee,</th>\n",
       "      <td>2</td>\n",
       "      <td>1</td>\n",
       "      <td>INTRODUCTION</td>\n",
       "      <td>SONGS OF INNOCENCE</td>\n",
       "    </tr>\n",
       "    <tr>\n",
       "      <th>On a cloud I saw a child,</th>\n",
       "      <td>3</td>\n",
       "      <td>1</td>\n",
       "      <td>INTRODUCTION</td>\n",
       "      <td>SONGS OF INNOCENCE</td>\n",
       "    </tr>\n",
       "    <tr>\n",
       "      <th>And he laughing said to me:</th>\n",
       "      <td>4</td>\n",
       "      <td>1</td>\n",
       "      <td>INTRODUCTION</td>\n",
       "      <td>SONGS OF INNOCENCE</td>\n",
       "    </tr>\n",
       "    <tr>\n",
       "      <th>‘Pipe a song about a Lamb!’</th>\n",
       "      <td>5</td>\n",
       "      <td>2</td>\n",
       "      <td>INTRODUCTION</td>\n",
       "      <td>SONGS OF INNOCENCE</td>\n",
       "    </tr>\n",
       "    <tr>\n",
       "      <th>...</th>\n",
       "      <td>...</td>\n",
       "      <td>...</td>\n",
       "      <td>...</td>\n",
       "      <td>...</td>\n",
       "    </tr>\n",
       "    <tr>\n",
       "      <th>Tangled roots perplex her ways;</th>\n",
       "      <td>7</td>\n",
       "      <td>1</td>\n",
       "      <td>THE VOICE OF THE ANCIENT BARD</td>\n",
       "      <td>SONGS OF EXPERIENCE</td>\n",
       "    </tr>\n",
       "    <tr>\n",
       "      <th>How many have fallen there!</th>\n",
       "      <td>8</td>\n",
       "      <td>1</td>\n",
       "      <td>THE VOICE OF THE ANCIENT BARD</td>\n",
       "      <td>SONGS OF EXPERIENCE</td>\n",
       "    </tr>\n",
       "    <tr>\n",
       "      <th>They stumble all night over bones of the dead;</th>\n",
       "      <td>9</td>\n",
       "      <td>1</td>\n",
       "      <td>THE VOICE OF THE ANCIENT BARD</td>\n",
       "      <td>SONGS OF EXPERIENCE</td>\n",
       "    </tr>\n",
       "    <tr>\n",
       "      <th>And feel—they know not what but care;</th>\n",
       "      <td>10</td>\n",
       "      <td>1</td>\n",
       "      <td>THE VOICE OF THE ANCIENT BARD</td>\n",
       "      <td>SONGS OF EXPERIENCE</td>\n",
       "    </tr>\n",
       "    <tr>\n",
       "      <th>And wish to lead others, when they should be led.</th>\n",
       "      <td>11</td>\n",
       "      <td>1</td>\n",
       "      <td>THE VOICE OF THE ANCIENT BARD</td>\n",
       "      <td>SONGS OF EXPERIENCE</td>\n",
       "    </tr>\n",
       "  </tbody>\n",
       "</table>\n",
       "<p>909 rows × 4 columns</p>\n",
       "</div>"
      ],
      "text/plain": [
       "                                                  line_number stanza_number  \\\n",
       "line                                                                          \n",
       "Piping down the valleys wild,                               1             1   \n",
       "    Piping songs of pleasant glee,                          2             1   \n",
       "On a cloud I saw a child,                                   3             1   \n",
       "    And he laughing said to me:                             4             1   \n",
       "‘Pipe a song about a Lamb!’                                 5             2   \n",
       "...                                                       ...           ...   \n",
       "Tangled roots perplex her ways;                             7             1   \n",
       "How many have fallen there!                                 8             1   \n",
       "They stumble all night over bones of the dead;              9             1   \n",
       "And feel—they know not what but care;                      10             1   \n",
       "And wish to lead others, when they should be led.          11             1   \n",
       "\n",
       "                                                                      poem_title  \\\n",
       "line                                                                               \n",
       "Piping down the valleys wild,                                       INTRODUCTION   \n",
       "    Piping songs of pleasant glee,                                  INTRODUCTION   \n",
       "On a cloud I saw a child,                                           INTRODUCTION   \n",
       "    And he laughing said to me:                                     INTRODUCTION   \n",
       "‘Pipe a song about a Lamb!’                                         INTRODUCTION   \n",
       "...                                                                          ...   \n",
       "Tangled roots perplex her ways;                    THE VOICE OF THE ANCIENT BARD   \n",
       "How many have fallen there!                        THE VOICE OF THE ANCIENT BARD   \n",
       "They stumble all night over bones of the dead;     THE VOICE OF THE ANCIENT BARD   \n",
       "And feel—they know not what but care;              THE VOICE OF THE ANCIENT BARD   \n",
       "And wish to lead others, when they should be led.  THE VOICE OF THE ANCIENT BARD   \n",
       "\n",
       "                                                            book_title  \n",
       "line                                                                    \n",
       "Piping down the valleys wild,                       SONGS OF INNOCENCE  \n",
       "    Piping songs of pleasant glee,                  SONGS OF INNOCENCE  \n",
       "On a cloud I saw a child,                           SONGS OF INNOCENCE  \n",
       "    And he laughing said to me:                     SONGS OF INNOCENCE  \n",
       "‘Pipe a song about a Lamb!’                         SONGS OF INNOCENCE  \n",
       "...                                                                ...  \n",
       "Tangled roots perplex her ways;                    SONGS OF EXPERIENCE  \n",
       "How many have fallen there!                        SONGS OF EXPERIENCE  \n",
       "They stumble all night over bones of the dead;     SONGS OF EXPERIENCE  \n",
       "And feel—they know not what but care;              SONGS OF EXPERIENCE  \n",
       "And wish to lead others, when they should be led.  SONGS OF EXPERIENCE  \n",
       "\n",
       "[909 rows x 4 columns]"
      ]
     },
     "execution_count": 4,
     "metadata": {},
     "output_type": "execute_result"
    }
   ],
   "source": [
    "# Easily change with df.set_index('line'), chance inplace to True if you want to modify the dataframe permanently \n",
    "df.set_index('line', inplace= False)"
   ]
  },
  {
   "cell_type": "markdown",
   "metadata": {},
   "source": [
    "## Visualizing text data"
   ]
  },
  {
   "cell_type": "code",
   "execution_count": 5,
   "metadata": {},
   "outputs": [],
   "source": [
    "import seaborn as sns\n",
    "import matplotlib.pyplot as plt\n",
    "from sklearn.feature_extraction.text import CountVectorizer, TfidfVectorizer, ENGLISH_STOP_WORDS"
   ]
  },
  {
   "cell_type": "code",
   "execution_count": 6,
   "metadata": {},
   "outputs": [
    {
     "data": {
      "text/plain": [
       "<AxesSubplot:xlabel='poem_title', ylabel='line'>"
      ]
     },
     "execution_count": 6,
     "metadata": {},
     "output_type": "execute_result"
    },
    {
     "data": {
      "image/png": "[encoded data removed]",
      "text/plain": [
       "<Figure size 432x288 with 1 Axes>"
      ]
     },
     "metadata": {
      "needs_background": "light"
     },
     "output_type": "display_data"
    }
   ],
   "source": [
    "df_bar_plot = df.groupby('poem_title', as_index = False).count()\n",
    "\n",
    "sns.barplot(data=df_bar_plot, x='poem_title', y='line')"
   ]
  },
  {
   "cell_type": "code",
   "execution_count": 7,
   "metadata": {},
   "outputs": [
    {
     "data": {
      "text/plain": [
       "<AxesSubplot:xlabel='line', ylabel='poem_title'>"
      ]
     },
     "execution_count": 7,
     "metadata": {},
     "output_type": "execute_result"
    },
    {
     "data": {
      "image/png": "[encoded data removed]",
      "text/plain": [
       "<Figure size 864x576 with 1 Axes>"
      ]
     },
     "metadata": {
      "needs_background": "light"
     },
     "output_type": "display_data"
    }
   ],
   "source": [
    "# not what requested but easier to understand and more clean\n",
    "\n",
    "palette = sns.color_palette(\"crest\", as_cmap=True)\n",
    "\n",
    "fig, ax = plt.subplots(figsize = (12,8))\n",
    "sns.barplot(data=df_bar_plot, ax = ax, x='line', y='poem_title', orient= 'h', palette = sns.color_palette(\"crest\", as_cmap=False))"
   ]
  },
  {
   "cell_type": "markdown",
   "metadata": {},
   "source": [
    "#### Feature matrixes"
   ]
  },
  {
   "cell_type": "code",
   "execution_count": 8,
   "metadata": {},
   "outputs": [
    {
     "data": {
      "text/plain": [
       "<909x1092 sparse matrix of type '<class 'numpy.float64'>'\n",
       "\twith 2692 stored elements in Compressed Sparse Row format>"
      ]
     },
     "execution_count": 8,
     "metadata": {},
     "output_type": "execute_result"
    }
   ],
   "source": [
    "list_line = list(df.line) #consider each line as a document \n",
    "list_line = list(map(lambda x: x.lower(), list_line)) # convert all in lower characthers\n",
    "vectorizer = TfidfVectorizer(stop_words=ENGLISH_STOP_WORDS)\n",
    "dfm_line = vectorizer.fit_transform(list_line)\n",
    "dfm_line"
   ]
  },
  {
   "cell_type": "code",
   "execution_count": 19,
   "metadata": {},
   "outputs": [
    {
     "data": {
      "text/plain": [
       "<50x1199 sparse matrix of type '<class 'numpy.float64'>'\n",
       "\twith 2209 stored elements in Compressed Sparse Row format>"
      ]
     },
     "execution_count": 19,
     "metadata": {},
     "output_type": "execute_result"
    }
   ],
   "source": [
    "# helper for list compreansion\n",
    "def containing_blank_line(s:str):\n",
    "    return '\\r\\n' in s\n",
    "\n",
    "# removed the title of the books from the document, this will be the list of my document\n",
    "list_poem_clean = [s for s in poem_list if containing_blank_line(s)]\n",
    "list_poem_clean = poem_list\n",
    "\n",
    "list_poem_clean = list(map(lambda x: x.lower(), list_poem_clean)) # convert all in lower characthers\n",
    "list_poem_clean = list(map(lambda x: x.replace('\\r\\n', ''), list_poem_clean)) # remove unnecessary charachters\n",
    "vectorizer = TfidfVectorizer(stop_words=ENGLISH_STOP_WORDS)\n",
    "dfm_poem = vectorizer.fit_transform(list_poem_clean)\n",
    "dfm_poem\n"
   ]
  },
  {
   "cell_type": "code",
   "execution_count": 10,
   "metadata": {},
   "outputs": [],
   "source": [
    "vectorizer = CountVectorizer(stop_words=\"english\")\n",
    "df = df[pd.notna(df[\"line\"])].reset_index(drop=True)\n",
    "dfm = vectorizer.fit_transform(df[\"line\"])\n",
    "dfm\n",
    "\n",
    "# create a daftame with columns = ['count','words', 'book']\n",
    "tidy_dfm = pd.DataFrame()\n",
    "features = vectorizer.get_feature_names_out()\n",
    "for name, group in df.groupby(\"book_title\"):\n",
    "    counts = dfm[group.index,:].sum(axis=0).A1\n",
    "    group_df = pd.DataFrame({\n",
    "        \"count\": counts,\n",
    "        \"words\": features,\n",
    "        \"book\": name\n",
    "    })\n",
    "    tidy_dfm = pd.concat([\n",
    "      tidy_dfm, \n",
    "      group_df[group_df[\"count\"]!=0]\n",
    "    ]).reset_index(drop=True)\n",
    "\n",
    "\n",
    "# selecting only the most frequent words for book\n",
    "interesting_features_exp = tidy_dfm[tidy_dfm['book'] == 'SONGS OF EXPERIENCE'].sort_values(\"count\",ascending=False).head(15)\n",
    "interesting_features_inn = tidy_dfm[tidy_dfm['book'] == 'SONGS OF INNOCENCE'].sort_values(\"count\",ascending=False).head(15)\n",
    "tidy_dfm[tidy_dfm['words'] == 'year']\n",
    "interesting_features = pd.concat([interesting_features_exp, interesting_features_inn])\n",
    "#interesting_features"
   ]
  },
  {
   "cell_type": "code",
   "execution_count": 11,
   "metadata": {},
   "outputs": [
    {
     "data": {
      "text/plain": [
       "<AxesSubplot:xlabel='words', ylabel='count'>"
      ]
     },
     "execution_count": 11,
     "metadata": {},
     "output_type": "execute_result"
    },
    {
     "data": {
      "image/png": "[encoded data removed]",
      "text/plain": [
       "<Figure size 936x576 with 1 Axes>"
      ]
     },
     "metadata": {
      "needs_background": "light"
     },
     "output_type": "display_data"
    }
   ],
   "source": [
    "# bar plot to compare the number of words\n",
    "\n",
    "fig, ax = plt.subplots(figsize = (13,8))\n",
    "\n",
    "sns.barplot(\n",
    "  data=interesting_features, ax = ax,\n",
    "  x=\"words\", y=\"count\", \n",
    "  hue=\"book\"\n",
    ")"
   ]
  },
  {
   "cell_type": "markdown",
   "metadata": {},
   "source": [
    "## Parsing XML text data"
   ]
  },
  {
   "cell_type": "code",
   "execution_count": null,
   "metadata": {},
   "outputs": [],
   "source": [
    "from bs4 import BeautifulSoup\n",
    "from bs4.element import Comment\n",
    "import pandas as pd\n",
    "import numpy as np\n",
    "import requests"
   ]
  },
  {
   "cell_type": "code",
   "execution_count": null,
   "metadata": {},
   "outputs": [],
   "source": [
    "url = 'https://www.bundestag.de/resource/blob/908848/b19bebca7930333f6321435fe54d2ba0/20049-data.xml'\n",
    "\n",
    "page = requests.get(url)\n",
    "\n",
    "soup = BeautifulSoup(page.content, features=\"xml\")\n",
    "soup.find_all('rede')[1].find('title')"
   ]
  },
  {
   "cell_type": "code",
   "execution_count": 157,
   "metadata": {},
   "outputs": [
    {
     "data": {
      "text/html": [
       "<div>\n",
       "<style scoped>\n",
       "    .dataframe tbody tr th:only-of-type {\n",
       "        vertical-align: middle;\n",
       "    }\n",
       "\n",
       "    .dataframe tbody tr th {\n",
       "        vertical-align: top;\n",
       "    }\n",
       "\n",
       "    .dataframe thead th {\n",
       "        text-align: right;\n",
       "    }\n",
       "</style>\n",
       "<table border=\"1\" class=\"dataframe\">\n",
       "  <thead>\n",
       "    <tr style=\"text-align: right;\">\n",
       "      <th></th>\n",
       "      <th>speaker</th>\n",
       "      <th>content</th>\n",
       "    </tr>\n",
       "  </thead>\n",
       "  <tbody>\n",
       "    <tr>\n",
       "      <th>0</th>\n",
       "      <td>Dr. Florian Toncar</td>\n",
       "      <td>Frau Präsidentin! Liebe Kolleginnen und Kolleg...</td>\n",
       "    </tr>\n",
       "    <tr>\n",
       "      <th>1</th>\n",
       "      <td>Dr. Mathias Middelberg</td>\n",
       "      <td>Geschätzte Frau Präsidentin! Liebe Kolleginnen...</td>\n",
       "    </tr>\n",
       "    <tr>\n",
       "      <th>2</th>\n",
       "      <td>Dennis Rohde</td>\n",
       "      <td>Frau Präsidentin! Liebe Kolleginnen und Kolleg...</td>\n",
       "    </tr>\n",
       "    <tr>\n",
       "      <th>3</th>\n",
       "      <td>Peter Boehringer</td>\n",
       "      <td>Frau Präsidentin! Wir sprechen heute über eine...</td>\n",
       "    </tr>\n",
       "    <tr>\n",
       "      <th>4</th>\n",
       "      <td>Sven-Christian Kindler</td>\n",
       "      <td>Sehr geehrte Frau Präsidentin! Meine Damen und...</td>\n",
       "    </tr>\n",
       "    <tr>\n",
       "      <th>...</th>\n",
       "      <td>...</td>\n",
       "      <td>...</td>\n",
       "    </tr>\n",
       "    <tr>\n",
       "      <th>94</th>\n",
       "      <td>Nadine Heselhaus</td>\n",
       "      <td>Sehr geehrte Frau Präsidentin! Meine Damen und...</td>\n",
       "    </tr>\n",
       "    <tr>\n",
       "      <th>95</th>\n",
       "      <td>Jürgen Braun</td>\n",
       "      <td>Frau Präsidentin! Meine sehr verehrten Damen u...</td>\n",
       "    </tr>\n",
       "    <tr>\n",
       "      <th>96</th>\n",
       "      <td>Dr. Franziska Kersten</td>\n",
       "      <td>Verehrte Frau Präsidentin! Liebe Kolleginnen u...</td>\n",
       "    </tr>\n",
       "    <tr>\n",
       "      <th>97</th>\n",
       "      <td>Uwe Feiler</td>\n",
       "      <td>Sehr geehrte Frau Präsidentin! Liebe Kolleginn...</td>\n",
       "    </tr>\n",
       "    <tr>\n",
       "      <th>98</th>\n",
       "      <td>Rainer Johannes Keller</td>\n",
       "      <td>Frau Präsidentin! Frau Ministerin! Liebe Kolle...</td>\n",
       "    </tr>\n",
       "  </tbody>\n",
       "</table>\n",
       "<p>99 rows × 2 columns</p>\n",
       "</div>"
      ],
      "text/plain": [
       "                    speaker                                            content\n",
       "0        Dr. Florian Toncar  Frau Präsidentin! Liebe Kolleginnen und Kolleg...\n",
       "1    Dr. Mathias Middelberg  Geschätzte Frau Präsidentin! Liebe Kolleginnen...\n",
       "2              Dennis Rohde  Frau Präsidentin! Liebe Kolleginnen und Kolleg...\n",
       "3          Peter Boehringer  Frau Präsidentin! Wir sprechen heute über eine...\n",
       "4    Sven-Christian Kindler  Sehr geehrte Frau Präsidentin! Meine Damen und...\n",
       "..                      ...                                                ...\n",
       "94         Nadine Heselhaus  Sehr geehrte Frau Präsidentin! Meine Damen und...\n",
       "95             Jürgen Braun  Frau Präsidentin! Meine sehr verehrten Damen u...\n",
       "96    Dr. Franziska Kersten  Verehrte Frau Präsidentin! Liebe Kolleginnen u...\n",
       "97               Uwe Feiler  Sehr geehrte Frau Präsidentin! Liebe Kolleginn...\n",
       "98   Rainer Johannes Keller  Frau Präsidentin! Frau Ministerin! Liebe Kolle...\n",
       "\n",
       "[99 rows x 2 columns]"
      ]
     },
     "execution_count": 157,
     "metadata": {},
     "output_type": "execute_result"
    }
   ],
   "source": [
    "from typing import final\n",
    "\n",
    "final_df = pd.DataFrame(columns= ['speaker', 'content'])\n",
    "\n",
    "for intervention in soup.find_all('rede'): # find the rede element (it locates the speaches)\n",
    "    if intervention.find('titel') != None:\n",
    "        title = intervention.find('titel').text\n",
    "    else:\n",
    "        title = ''\n",
    "    if intervention.find('vorname') != None:\n",
    "        vorname = intervention.find('vorname').text\n",
    "    else:\n",
    "        vorname = ''\n",
    "    if intervention.find('nachname') != None:\n",
    "        name =  intervention.find('nachname').text\n",
    "    else:\n",
    "        name = ''\n",
    "    speaker = title + ' ' + vorname + ' ' + name # combine info extract before to build the speaker name\n",
    "    content = ''\n",
    "    speach_parts = intervention.find_all(klasse = ['J', 'O', 'J_1']) # speaches are cointained in the class ['J', 'O', 'J_1']\n",
    "    for part in speach_parts:\n",
    "        content += part.text # append each test part in the content element \n",
    "    \n",
    "    dictionary = {'speaker' : speaker, 'content' : content} # dictionary to build the dataframe\n",
    "\n",
    "    final_df = final_df.append(dictionary, ignore_index=True) # create the final dataframe\n",
    "\n",
    "final_df"
   ]
  },
  {
   "cell_type": "markdown",
   "metadata": {},
   "source": [
    "## Using regular expression"
   ]
  },
  {
   "cell_type": "code",
   "execution_count": 158,
   "metadata": {},
   "outputs": [
    {
     "data": {
      "text/plain": [
       "{'Kohle': 9, 'Kohlelieferungen': 1, 'Kohletransporten': 1, 'Kohlendioxid': 1}"
      ]
     },
     "execution_count": 158,
     "metadata": {},
     "output_type": "execute_result"
    }
   ],
   "source": [
    "import re\n",
    "\n",
    "kohle = '[Kk]{1}[Oo]{1}[H h]{1}[L l]{1}[E e]{1}[A-Za-z]*' # regex for Kohle\n",
    "\n",
    "all_text = ' '.join(list(final_df['content'])) # join all the speaches\n",
    "\n",
    "list_of_kohle = re.findall(kohle, all_text) # find the regex expression in all the speaches\n",
    "\n",
    "d = {} #dictionary, the keys are the words and the value is the occurancies\n",
    "for i in list_of_kohle:\n",
    "    d[i] = all_text.count(i)\n",
    "d"
   ]
  }
 ],
 "metadata": {
  "kernelspec": {
   "display_name": "Python 3.9.13 64-bit (microsoft store)",
   "language": "python",
   "name": "python3"
  },
  "language_info": {
   "codemirror_mode": {
    "name": "ipython",
    "version": 3
   },
   "file_extension": ".py",
   "mimetype": "text/x-python",
   "name": "python",
   "nbconvert_exporter": "python",
   "pygments_lexer": "ipython3",
   "version": "3.9.13"
  },
  "orig_nbformat": 4,
  "vscode": {
   "interpreter": {
    "hash": "4c7361239e0ef563e9878cf3d023a9a0b8fdf4c8c0a2a9b97952a766bb459488"
   }
  }
 },
 "nbformat": 4,
 "nbformat_minor": 2
}
