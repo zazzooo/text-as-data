{
 "cells": [
  {
   "cell_type": "markdown",
   "metadata": {},
   "source": [
    "## Topic modeling"
   ]
  },
  {
   "cell_type": "markdown",
   "metadata": {},
   "source": [
    "### Data aquisition, description and preparation"
   ]
  },
  {
   "cell_type": "markdown",
   "metadata": {},
   "source": [
    "For this project I downloaded all the Italin parties' manifesto from [WZB](https://manifesto-project.wzb.eu/). The first year the data are aviable is 1963 and the data are collected until 2001. After this year the format of the data change and it is not possible to integret it in the code. The final dataset is made by 79 different manifestos over 19 rounds of election. Unfortunately I wasn't able to collect the party name, the column that specify the party is represented with a unique code.\n",
    "\n",
    "The data were downloaded in a .csv format and cointains three columns, one containing the manifesto text and the other two are irrelevant (cmp_code and eu_code, mostly empty). The other information regarding the year and the party were stored in the name of each .csv. The function 'combine_csv' read all the document in a specific folder, combine them and extract the informantion mentioned above."
   ]
  },
  {
   "cell_type": "code",
   "execution_count": 1,
   "metadata": {},
   "outputs": [],
   "source": [
    "#import\n",
    "import pandas as pd\n",
    "import os\n",
    "from sklearn.feature_extraction.text import TfidfVectorizer\n",
    "from stop_words import get_stop_words \n",
    "from sklearn.decomposition import NMF\n",
    "import matplotlib.pyplot as plt"
   ]
  },
  {
   "cell_type": "code",
   "execution_count": 2,
   "metadata": {},
   "outputs": [
    {
     "data": {
      "text/html": [
       "<div>\n",
       "<style scoped>\n",
       "    .dataframe tbody tr th:only-of-type {\n",
       "        vertical-align: middle;\n",
       "    }\n",
       "\n",
       "    .dataframe tbody tr th {\n",
       "        vertical-align: top;\n",
       "    }\n",
       "\n",
       "    .dataframe thead th {\n",
       "        text-align: right;\n",
       "    }\n",
       "</style>\n",
       "<table border=\"1\" class=\"dataframe\">\n",
       "  <thead>\n",
       "    <tr style=\"text-align: right;\">\n",
       "      <th></th>\n",
       "      <th>text</th>\n",
       "      <th>party_code</th>\n",
       "      <th>year</th>\n",
       "    </tr>\n",
       "  </thead>\n",
       "  <tbody>\n",
       "    <tr>\n",
       "      <th>0</th>\n",
       "      <td>Programma elettorale del P.R.I.  Nelle polemic...</td>\n",
       "      <td>32410</td>\n",
       "      <td>1963</td>\n",
       "    </tr>\n",
       "    <tr>\n",
       "      <th>1</th>\n",
       "      <td>DEMOCRAZIA INDUSTRIALE.   Oggi innestare il pr...</td>\n",
       "      <td>32420</td>\n",
       "      <td>1963</td>\n",
       "    </tr>\n",
       "    <tr>\n",
       "      <th>2</th>\n",
       "      <td>Il secolo. Il segretario nazionale del MSI ha ...</td>\n",
       "      <td>32710</td>\n",
       "      <td>1963</td>\n",
       "    </tr>\n",
       "    <tr>\n",
       "      <th>3</th>\n",
       "      <td>L’ORDINE DEL GIORNO APPROVATO D@ COMITATO CENT...</td>\n",
       "      <td>32330</td>\n",
       "      <td>1963</td>\n",
       "    </tr>\n",
       "    <tr>\n",
       "      <th>4</th>\n",
       "      <td>Segretario del PRI ha illustrato i due fondame...</td>\n",
       "      <td>32410</td>\n",
       "      <td>1968</td>\n",
       "    </tr>\n",
       "    <tr>\n",
       "      <th>...</th>\n",
       "      <td>...</td>\n",
       "      <td>...</td>\n",
       "      <td>...</td>\n",
       "    </tr>\n",
       "    <tr>\n",
       "      <th>74</th>\n",
       "      <td>PIANO DI GOVERNO PER UNA INTERA LEGISLATURA   ...</td>\n",
       "      <td>32611</td>\n",
       "      <td>2001</td>\n",
       "    </tr>\n",
       "    <tr>\n",
       "      <th>75</th>\n",
       "      <td>Rinnoviamo l’Italia, insieme  Il programma del...</td>\n",
       "      <td>32220</td>\n",
       "      <td>2001</td>\n",
       "    </tr>\n",
       "    <tr>\n",
       "      <th>76</th>\n",
       "      <td>PIANO DI GOVERNO PER UNA INTERA LEGISLATURA   ...</td>\n",
       "      <td>32610</td>\n",
       "      <td>2001</td>\n",
       "    </tr>\n",
       "    <tr>\n",
       "      <th>77</th>\n",
       "      <td>PIANO DI GOVERNO PER UNA INTERA LEGISLATURA   ...</td>\n",
       "      <td>32710</td>\n",
       "      <td>2001</td>\n",
       "    </tr>\n",
       "    <tr>\n",
       "      <th>78</th>\n",
       "      <td>PIANO DI GOVERNO PER UNA INTERA LEGISLATURA   ...</td>\n",
       "      <td>32720</td>\n",
       "      <td>2001</td>\n",
       "    </tr>\n",
       "  </tbody>\n",
       "</table>\n",
       "<p>79 rows × 3 columns</p>\n",
       "</div>"
      ],
      "text/plain": [
       "                                                 text party_code  year\n",
       "0   Programma elettorale del P.R.I.  Nelle polemic...      32410  1963\n",
       "1   DEMOCRAZIA INDUSTRIALE.   Oggi innestare il pr...      32420  1963\n",
       "2   Il secolo. Il segretario nazionale del MSI ha ...      32710  1963\n",
       "3   L’ORDINE DEL GIORNO APPROVATO D@ COMITATO CENT...      32330  1963\n",
       "4   Segretario del PRI ha illustrato i due fondame...      32410  1968\n",
       "..                                                ...        ...   ...\n",
       "74  PIANO DI GOVERNO PER UNA INTERA LEGISLATURA   ...      32611  2001\n",
       "75  Rinnoviamo l’Italia, insieme  Il programma del...      32220  2001\n",
       "76  PIANO DI GOVERNO PER UNA INTERA LEGISLATURA   ...      32610  2001\n",
       "77  PIANO DI GOVERNO PER UNA INTERA LEGISLATURA   ...      32710  2001\n",
       "78  PIANO DI GOVERNO PER UNA INTERA LEGISLATURA   ...      32720  2001\n",
       "\n",
       "[79 rows x 3 columns]"
      ]
     },
     "execution_count": 2,
     "metadata": {},
     "output_type": "execute_result"
    }
   ],
   "source": [
    "def combine_csv(path):\n",
    "    '''\n",
    "    This function combines all the csv files in the given path and returns a dataframe\n",
    "    \n",
    "    Parameters:\n",
    "    path: path of the folder containing the csv files\n",
    "    \n",
    "    Returns:\n",
    "    df: dataframe containing all the csv files\n",
    "    '''\n",
    "    list_df = []\n",
    "    for filename in os.listdir(path):\n",
    "        df = pd.read_csv(path + '/'+ filename)\n",
    "        df.drop(columns = ['cmp_code', 'eu_code'], inplace = True) # drop the columns (mostly nans)\n",
    "        filename = filename.replace('.csv', '')\n",
    "        df['party_code'] = filename.split('_')[0] #extract the party code from the filename\n",
    "        df['year'] = filename.split('_')[1][:4] #extract the year from the filename\n",
    "        list_df.append(df)\n",
    "    final_df = pd.concat(list_df)\n",
    "    final_df.sort_values(['year'], inplace = True)\n",
    "    final_df.reset_index(inplace=True, drop=True)\n",
    "    return final_df\n",
    "\n",
    "df = combine_csv('data_assignment_2')\n",
    "df"
   ]
  },
  {
   "cell_type": "code",
   "execution_count": 4,
   "metadata": {},
   "outputs": [
    {
     "data": {
      "text/plain": [
       "19"
      ]
     },
     "execution_count": 4,
     "metadata": {},
     "output_type": "execute_result"
    }
   ],
   "source": [
    "list_new_parties = check_new_party(df)\n",
    "len(list_new_parties)"
   ]
  },
  {
   "cell_type": "markdown",
   "metadata": {},
   "source": [
    "#### Crating feature matrix"
   ]
  },
  {
   "cell_type": "markdown",
   "metadata": {},
   "source": [
    "For the specific task I need to create two diferent feature matrixes for each year, one for the new entry parties and the other regarding the already existing parties. To make the matrixes I use ths TFIDF method. This is the best tecnique to address this kind of quesiton because it increases the score of the less frequent words and this allow the code to spot better the words assoicieted with the new topics.  \n",
    "\n",
    "An example of the code it will be used in the later functions is reported below:"
   ]
  },
  {
   "cell_type": "code",
   "execution_count": 9,
   "metadata": {},
   "outputs": [
    {
     "data": {
      "text/plain": [
       "<79x30931 sparse matrix of type '<class 'numpy.float64'>'\n",
       "\twith 201474 stored elements in Compressed Sparse Row format>"
      ]
     },
     "execution_count": 9,
     "metadata": {},
     "output_type": "execute_result"
    }
   ],
   "source": [
    "list_manifestos = list(df.text) \n",
    "list_manifestos = list(map(lambda x: x.lower(), list_manifestos)) # convert all in lower characthers\n",
    "vectorizer = TfidfVectorizer(stop_words=get_stop_words('italian'))\n",
    "dfm_manifestos = vectorizer.fit_transform(list_manifestos)\n",
    "dfm_manifestos"
   ]
  },
  {
   "cell_type": "markdown",
   "metadata": {},
   "source": [
    "### Research question"
   ]
  },
  {
   "cell_type": "markdown",
   "metadata": {},
   "source": [
    "From a political science prospective new parties arise because of lack of interest in some hot topic that matters for the citizens. This theory is called [cleavage](http://www.u.arizona.edu/~mishler/LipsetRokkan.pdf) and it was presented in 1967 by Rokkan and Lipset. It focused mainly on some important historical issues such as the relationships between: state and church, or the land-industry investors.\n",
    "\n",
    "It will be interesting to investigate if the Manifesto of the new parties match the theory behaind. The idea is to check the most mention topics in the manifestos of the first time candidate party and compare them with the already present ones.\n",
    "\n",
    "The question that will be answered is: does the new party talk about issue that were not faced before?"
   ]
  },
  {
   "cell_type": "markdown",
   "metadata": {},
   "source": [
    "## Topics modeling: Developing and Description"
   ]
  },
  {
   "cell_type": "code",
   "execution_count": 14,
   "metadata": {},
   "outputs": [],
   "source": [
    "def check_new_party(df):\n",
    "    '''\n",
    "    This function checks if there is a new party in the dataframe\n",
    "    \n",
    "    Parameters:\n",
    "    df: dataframe containing the data\n",
    "    \n",
    "    Returns:\n",
    "    new_party: list of tuples (new parties, year of their first appearance)\n",
    "    '''\n",
    "    first_year_df = df[df['year'] == df['year'].min()] #list of parties already present in the first year\n",
    "    list_party = list(first_year_df['party_code'])\n",
    "    new_party_year = []\n",
    "    for index, row in df.iterrows():\n",
    "        if row['party_code'] not in list_party: #check if the party is already present in the list\n",
    "            list_party.append(row['party_code']) #if not, add it to the party list\n",
    "            new_party_year.append((row['party_code'], row['year'])) #add the party and the year to the output list\n",
    "    return new_party_year\n",
    "\n",
    "def divide_data_for_year(df, list_new_parties):\n",
    "    '''\n",
    "    This function divides the dataframe in two dataframes: one containing the old parties and one containing the new parties per year\n",
    "\n",
    "    Parameters:\n",
    "    df: dataframe containing the data\n",
    "    list_new_parties: list of tuples (new parties, year of their first appearance)\n",
    "\n",
    "    Returns:\n",
    "    list_dfs_per_year: list of tuples (df_old_parties, df_new_parties)\n",
    "    '''\n",
    "    list_dfs_per_year = []\n",
    "    df_new_parties = pd.DataFrame() #create dataframe for the new parties\n",
    "    for year in df.year.unique():\n",
    "        df_year = df[df['year'] == year] #filter the dataframe for the year\n",
    "        for code, year_new_parties in list_new_parties:\n",
    "            if year == year_new_parties: #check if the party is new in that year\n",
    "                df_new_parties = df_year[df_year['party_code'] == code] #append to the new parties dataframe\n",
    "                df_year = df_year.drop(df_year[df_year['party_code'] == code].index) #drop the new party from the old parties dataframe\n",
    "        list_dfs_per_year.append((df_year, df_new_parties))\n",
    "    return list_dfs_per_year\n",
    "\n",
    "def plot_top_words(model, feature_names, n_top_words, title):\n",
    "    n_components = model.n_components\n",
    "    fig, axes = plt.subplots(n_components//5,5, figsize=(30, 15), sharex=True)\n",
    "    axes = axes.flatten()\n",
    "    t_titles = []\n",
    "    for topic_idx, topic in enumerate(model.components_):\n",
    "        top_features_ind = topic.argsort()[: -n_top_words - 1 : -1]\n",
    "        top_features = [feature_names[i] for i in top_features_ind]\n",
    "        weights = topic[top_features_ind]\n",
    "\n",
    "        ax = axes[topic_idx]\n",
    "        ax.barh(top_features, weights, height=0.7)\n",
    "        ax.set_title(f\"Topic {topic_idx +1}\", fontdict={\"fontsize\": 30})\n",
    "        ax.invert_yaxis()\n",
    "        ax.tick_params(axis=\"both\", which=\"major\", labelsize=20)\n",
    "        for i in \"top right left\".split():\n",
    "            ax.spines[i].set_visible(False)\n",
    "        fig.suptitle(title, fontsize=40)\n",
    "        \n",
    "        t_titles.append(\", \".join(top_features[:3]))\n",
    "\n",
    "    plt.subplots_adjust(top=0.90, bottom=0.05, wspace=0.90, hspace=0.3)\n",
    "    title = title.lower().replace(\" \", '')\n",
    "    plt.savefig('plot/' + title + '.png')\n",
    "    plt.show() \n",
    "    \n",
    "    return t_titles   \n",
    "\n",
    "def creating_dfms_and_plot_topics(list_dfs_per_year, N_topics = 5, words_for_topic = 10):\n",
    "    ''' \n",
    "    This function creates the dfms for the old parties and the new parties per year\n",
    "    \n",
    "    Parameters:\n",
    "    list_dfs_per_year: list of tuples (df_old_parties, df_new_parties)\n",
    "    \n",
    "    Returns:\n",
    "    list_dfms_per_year: list of tuples (dfm_old_parties, dfm_new_parties)\n",
    "    '''\n",
    "    list_dfms_per_year = []\n",
    "    for df_old_parties, df_new_parties in list_dfs_per_year:\n",
    "        year = df_old_parties['year'].unique()[0]\n",
    "        if df_new_parties.empty:\n",
    "            continue \n",
    "\n",
    "        list_old_manifestos = list(df_old_parties['text']) #list of old parties manifestos\n",
    "        list_old_manifestos = list(map(lambda x: x.lower(), list_old_manifestos)) # convert all in lower characthers\n",
    "        vectorizer = TfidfVectorizer(stop_words=get_stop_words('italian'))\n",
    "        dfm_old_manifestos = vectorizer.fit_transform(list_old_manifestos)\n",
    "        nmf = NMF(N_topics)\n",
    "        nmf.fit_transform(dfm_old_manifestos)\n",
    "        t_titles = plot_top_words(nmf, vectorizer.get_feature_names_out(df_old_parties.text), words_for_topic, \"Topics in existing parties in \" + str(year), )\n",
    "\n",
    "        print('new parties'+ str(year))\n",
    "        list_new_manifestos = list(df_new_parties['text']) #list of new parties manifestos\n",
    "        list_new_manifestos = list(map(lambda x: x.lower(), list_new_manifestos)) # convert all in lower characthers\n",
    "        vectorizer = TfidfVectorizer(stop_words=get_stop_words('italian'))\n",
    "        dfm_new_manifestos = vectorizer.fit_transform(list_new_manifestos)\n",
    "        nmf = NMF(N_topics)\n",
    "        nmf.fit_transform(dfm_new_manifestos)\n",
    "        t_titles = plot_top_words(nmf, vectorizer.get_feature_names_out(df_new_parties.text), words_for_topic, \"Topics in new parties in \" + str(year), )\n",
    "        print(t_titles)\n",
    "        list_dfms_per_year.append((dfm_old_manifestos, dfm_new_manifestos))\n",
    "        \n",
    "    return list_dfms_per_year"
   ]
  },
  {
   "cell_type": "code",
   "execution_count": 13,
   "metadata": {},
   "outputs": [],
   "source": [
    "%%capture\n",
    "# call the function, now the plots are saved in the folder 'plot'\n",
    "\n",
    "list_dfs_per_year = divide_data_for_year(df, list_new_parties)\n",
    "list_dfms_per_year = creating_dfms_and_plot_topics(list_dfs_per_year,5,10)"
   ]
  },
  {
   "cell_type": "markdown",
   "metadata": {},
   "source": [
    "The model used is NMF, this particoular model relay on a non negative matrix decomposition. It is a strong mathematical tools that is used in topic modeling to find the main contents of a text. NMF is one of the basic model but it is very effective. Usually the model works with an TFIDF feature matrix, as it was done in the code. The important hyper parameters that need to be choosen are: \n",
    "* the number of topic that the code spots (N_topics)\n",
    "* the number of words each topic refers to (words_for_topic)\n",
    "\n",
    "I set the two number respectively to 5 and 10, I reckon those values work fine for the task choosen. Changing them, the model may bring different and not really compatible plots. I belive that changing the N_topics may raise some issue because it will not reconise the extra topics. In other words, if the number of topics increase too much, the model harly will spot new topic in the new parties' manifesto since the same topic might arise in the old one even if was berely mentioned.  "
   ]
  },
  {
   "cell_type": "markdown",
   "metadata": {},
   "source": [
    "## Answering the research question"
   ]
  },
  {
   "cell_type": "markdown",
   "metadata": {},
   "source": [
    "Below are shown the plots of the 1976 election:"
   ]
  },
  {
   "cell_type": "markdown",
   "metadata": {},
   "source": [
    "![Alt text](plot/topicsinexistingpartiesin1972.png)![Alt text](plot/topicsinnewpartiesin1972.png)"
   ]
  },
  {
   "cell_type": "markdown",
   "metadata": {},
   "source": [
    "It is clear that the main concers of the new party (DC, christian democratic) differs a lot from the precedent issues tackeled. DC focused much more on the religion and pushing on a democratic appael that none of hte parties before used in them manifesto.   "
   ]
  },
  {
   "cell_type": "markdown",
   "metadata": {},
   "source": [
    "Regarding the 1983 elections:"
   ]
  },
  {
   "cell_type": "markdown",
   "metadata": {},
   "source": [
    "![Alt text](plot/topicsinexistingpartiesin1983.png)![Alt text](plot/topicsinnewpartiesin1983.png)"
   ]
  },
  {
   "cell_type": "markdown",
   "metadata": {},
   "source": [
    "Also here it is possible to see a change in the topic by the new entry party. This time the new topic are alligned with the left ideology, it refers many time to the social and workers (lavoratori) issues. "
   ]
  },
  {
   "cell_type": "markdown",
   "metadata": {},
   "source": [
    "But probably the most interesting year to evaluate is 1994. At the time in Italy there was a nationwide judicial investigation into political corruption called 'Mani pulite'. After it many parties disapear and it was the beginning of the political career of Silvio Berlusconi, that he is still now part of the current government. He presented at the election as the only alternative to give a break from the precedent political class. Before he was in to the media business, knowig this informations it will be possible to analyse better the treated topics by his new party."
   ]
  },
  {
   "cell_type": "markdown",
   "metadata": {},
   "source": [
    "![Alt text](plot/topicsinexistingpartiesin1994.png)![Alt text](plot/topicsinnewpartiesin1994.png)"
   ]
  },
  {
   "cell_type": "markdown",
   "metadata": {},
   "source": [
    "As expected one of the main topic of the Berlusconi party is justice that is not treated by any of the manifestos of the pre existing parties. Another focus of the manifesto is the media field, since it was he previous business and he heavly used it for propaganda during his candidature."
   ]
  },
  {
   "cell_type": "markdown",
   "metadata": {},
   "source": [
    "To conclude, it seems that the theory is confirmed by the data. Futher reserch are necessary to establushed compleate inference."
   ]
  }
 ],
 "metadata": {
  "kernelspec": {
   "display_name": "Python 3 (ipykernel)",
   "language": "python",
   "name": "python3"
  },
  "language_info": {
   "codemirror_mode": {
    "name": "ipython",
    "version": 3
   },
   "file_extension": ".py",
   "mimetype": "text/x-python",
   "name": "python",
   "nbconvert_exporter": "python",
   "pygments_lexer": "ipython3",
   "version": "3.10.4"
  },
  "vscode": {
   "interpreter": {
    "hash": "97b7f0f1662268f201b31cfd395afa89f3d7f38c324c5052cf221b976bda3ef3"
   }
  }
 },
 "nbformat": 4,
 "nbformat_minor": 2
}
