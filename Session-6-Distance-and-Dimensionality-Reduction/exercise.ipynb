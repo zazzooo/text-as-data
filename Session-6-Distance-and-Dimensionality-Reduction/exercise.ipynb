{
 "cells": [
  {
   "cell_type": "code",
   "execution_count": 56,
   "metadata": {},
   "outputs": [],
   "source": [
    "import pandas as pd\n",
    "from sklearn.metrics.pairwise import cosine_similarity\n",
    "from sklearn.feature_extraction.text import CountVectorizer, TfidfVectorizer\n",
    "import seaborn as sns"
   ]
  },
  {
   "cell_type": "code",
   "execution_count": 59,
   "metadata": {},
   "outputs": [
    {
     "data": {
      "text/plain": [
       "(5240, 5240)"
      ]
     },
     "execution_count": 59,
     "metadata": {},
     "output_type": "execute_result"
    }
   ],
   "source": [
    "df_manifesto = pd.read_csv('data/uk_manifestos.csv')\n",
    "\n",
    "texts = list(df_manifesto['text'])\n",
    "\n",
    "vec = CountVectorizer()\n",
    "dfmat = vec.fit_transform(texts)\n",
    "dist_dfmat = cosine_similarity(dfmat)\n",
    "dist_dfmat.shape\n",
    "\n",
    "#sns.heatmap(dist_dfmat)"
   ]
  },
  {
   "cell_type": "code",
   "execution_count": 60,
   "metadata": {},
   "outputs": [
    {
     "data": {
      "text/plain": [
       "'Labour will use the crucial next decade to act.'"
      ]
     },
     "execution_count": 60,
     "metadata": {},
     "output_type": "execute_result"
    }
   ],
   "source": [
    "texts[10]\n"
   ]
  },
  {
   "cell_type": "code",
   "execution_count": 61,
   "metadata": {},
   "outputs": [
    {
     "data": {
      "text/plain": [
       "10"
      ]
     },
     "execution_count": 61,
     "metadata": {},
     "output_type": "execute_result"
    }
   ],
   "source": [
    "import numpy as np\n",
    "\n",
    "texts[10]\n",
    "#dist_dfmat = np.fill_diagonal(dist_dfmat,0)\n",
    "\n",
    "np.argmax(dist_dfmat[10,:])\n"
   ]
  },
  {
   "cell_type": "code",
   "execution_count": 62,
   "metadata": {},
   "outputs": [
    {
     "data": {
      "text/plain": [
       "3381"
      ]
     },
     "execution_count": 62,
     "metadata": {},
     "output_type": "execute_result"
    }
   ],
   "source": [
    "#dist_dfmat[10:10] = 0\n",
    "dist_dfmat[10][10] = 0\n",
    "dist_dfmat[10][10]\n",
    "np.argmax(dist_dfmat[10,:])\n"
   ]
  },
  {
   "cell_type": "code",
   "execution_count": 64,
   "metadata": {},
   "outputs": [
    {
     "data": {
      "text/plain": [
       "('We will require new arrivals to contribute to the funding of the NHS \\uf02fand will increase the health surcharge to ensure it covers the full cost of use.',\n",
       " 'Labour will use the crucial next decade to act.')"
      ]
     },
     "execution_count": 64,
     "metadata": {},
     "output_type": "execute_result"
    }
   ],
   "source": [
    "texts[3381], texts[10]\n"
   ]
  }
 ],
 "metadata": {
  "kernelspec": {
   "display_name": "Python 3.9.13 64-bit (microsoft store)",
   "language": "python",
   "name": "python3"
  },
  "language_info": {
   "codemirror_mode": {
    "name": "ipython",
    "version": 3
   },
   "file_extension": ".py",
   "mimetype": "text/x-python",
   "name": "python",
   "nbconvert_exporter": "python",
   "pygments_lexer": "ipython3",
   "version": "3.9.13"
  },
  "orig_nbformat": 4,
  "vscode": {
   "interpreter": {
    "hash": "4c7361239e0ef563e9878cf3d023a9a0b8fdf4c8c0a2a9b97952a766bb459488"
   }
  }
 },
 "nbformat": 4,
 "nbformat_minor": 2
}
